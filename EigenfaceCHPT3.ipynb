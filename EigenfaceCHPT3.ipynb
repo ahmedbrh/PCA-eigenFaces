{
 "cells": [
  {
   "cell_type": "code",
   "execution_count": 18,
   "id": "35cf7dd4",
   "metadata": {},
   "outputs": [
    {
     "data": {
      "image/png": "[encoded data removed]",
      "text/plain": [
       "<Figure size 432x288 with 1 Axes>"
      ]
     },
     "metadata": {
      "needs_background": "light"
     },
     "output_type": "display_data"
    }
   ],
   "source": [
    "import matplotlib.pyplot as plt\n",
    "import numpy as np\n",
    "import seaborn as sns\n",
    "import statistics\n",
    "from numpy import lianalg \n",
    "\n",
    "\n",
    "\n",
    "X1 = [2.5, 0.5, 2.2, 1.9, 3.1 ,2.3 ,2 ,1 ,1.5, 1.1]\n",
    "MX1 = statistics.mean(X1)\n",
    "Y1=[ 2.4 ,0.7 ,2.9 ,2.2 ,3.0 ,2.7 ,1.6 ,1.1 ,1.6 ,0.9]\n",
    "MY1 = statistics.mean(Y1)\n",
    "\n",
    "\n",
    "plt.scatter(X1,Y1)\n",
    "plt.title('Original PCA data')\n",
    "plt.show()"
   ]
  },
  {
   "cell_type": "code",
   "execution_count": 24,
   "id": "1f6877f3",
   "metadata": {},
   "outputs": [
    {
     "data": {
      "image/png": "[encoded data removed]",
      "text/plain": [
       "<Figure size 432x288 with 1 Axes>"
      ]
     },
     "metadata": {
      "needs_background": "light"
     },
     "output_type": "display_data"
    }
   ],
   "source": [
    "vctrX = np.array(X1)\n",
    "vctrY =  np.array(Y1)\n",
    "#DataAdjust \n",
    "X = vctrX - MX1\n",
    "Y = vctrY -MY1\n",
    "plt.plot(X,Y,'+')\n",
    "plt.title('Representation with the mean substracted')\n",
    "plt.show()\n",
    "   "
   ]
  },
  {
   "cell_type": "code",
   "execution_count": 28,
   "id": "56fc556b",
   "metadata": {},
   "outputs": [
    {
     "name": "stdout",
     "output_type": "stream",
     "text": [
      "[[0.61655556 0.61544444]\n",
      " [0.61544444 0.71655556]]\n"
     ]
    }
   ],
   "source": [
    "#Step3 calculate the covariance matrix \n",
    "C = np.cov(vctrX,vctrY)\n",
    "print(C)"
   ]
  },
  {
   "cell_type": "code",
   "execution_count": 160,
   "id": "6ce6eb1c",
   "metadata": {},
   "outputs": [
    {
     "name": "stdout",
     "output_type": "stream",
     "text": [
      "[[-0.46773264 -0.36023754]\n",
      " [ 0.88801415  0.88956617]\n",
      " [-0.26437063 -0.72782687]\n",
      " [-0.06100861 -0.21320181]\n",
      " [-0.87445668 -0.80134473]\n",
      " [-0.33215797 -0.58079114]\n",
      " [-0.12879595  0.22790538]\n",
      " [ 0.54907745  0.59549471]\n",
      " [ 0.21014075  0.22790538]\n",
      " [ 0.48129011  0.74253044]]\n",
      "------------------\n",
      "[[2.12706352 2.07483895]\n",
      " [1.20803883 1.15600994]\n",
      " [1.98920981 2.34508278]\n",
      " [1.85135611 1.96674142]\n",
      " [2.40277092 2.39913154]\n",
      " [2.03516105 2.23698525]\n",
      " [1.89730735 1.64244883]\n",
      " [1.437795   1.372205  ]\n",
      " [1.66755117 1.64244883]\n",
      " [1.48374624 1.26410747]]\n"
     ]
    }
   ],
   "source": [
    "#Step4 calculate the eigenvectors and eigenvalues of the covariance matrix \n",
    "#Valeurs propres\n",
    "# vlp = np.linalg.eigvals(C)\n",
    "# print(vlp)\n",
    "#Vecteurs propre \n",
    "vlp , vcp = np.linalg.eig(C)\n",
    "idx = vlp.argsort()[::-1]   \n",
    "vlp = vlp[idx]\n",
    "vcp = vcp[:,idx]\n",
    "# print(vcp)\n",
    "\n",
    "# print (vlp)\n",
    "# print(\"---------------\")\n",
    "rfv = np.transpose(vcp[0])\n",
    "# print(X)\n",
    "# print (vcp[0])\n",
    "# rff = np.transpose(Y).reshape()\n",
    "# fd = rfv* \n",
    "\n",
    "A = np.array([X,Y])\n",
    "# print(A)\n",
    "# print(np.transpose(A))\n",
    "rff= rfv * np.transpose(A)\n",
    "\n",
    "\n",
    "print(rff)\n",
    "\n",
    "print(\"------------------\")\n",
    "res = (vcp[0]*rff) + MX1 \n",
    "print(res)\n",
    "\n",
    "\n",
    "\n",
    "\n"
   ]
  },
  {
   "cell_type": "code",
   "execution_count": null,
   "id": "e0c2d8a2",
   "metadata": {},
   "outputs": [],
   "source": []
  }
 ],
 "metadata": {
  "kernelspec": {
   "display_name": "Python 3 (ipykernel)",
   "language": "python",
   "name": "python3"
  },
  "language_info": {
   "codemirror_mode": {
    "name": "ipython",
    "version": 3
   },
   "file_extension": ".py",
   "mimetype": "text/x-python",
   "name": "python",
   "nbconvert_exporter": "python",
   "pygments_lexer": "ipython3",
   "version": "3.9.7"
  }
 },
 "nbformat": 4,
 "nbformat_minor": 5
}
