{
 "cells": [
  {
   "cell_type": "code",
   "execution_count": 20,
   "metadata": {
    "scrolled": true
   },
   "outputs": [],
   "source": [
    "import matplotlib.pyplot as plt\n",
    "import numpy as np\n",
    "\n",
    "#dataset containing faces\n",
    "from sklearn.datasets import fetch_lfw_people\n",
    "\n",
    "#dataset images étiquetées\n",
    "people = fetch_lfw_people(min_faces_per_person = 70, resize = 0.4)\n",
    "\n",
    "# largeur et longueur des images\n",
    "n_samples, h, w = people.images.shape\n",
    "\n",
    "#données, (chaque image est dans un tableau ou vecteur 1 dimension) \n",
    "X = people.data\n",
    "#étiquettes de chaque image ex f(X[0]) = Y[0] = 5 => names[5] = \"G. bush\"\n",
    "Y = people.target\n",
    "names = people.target_names\n",
    "#Le but de l'exercice est donc de créer cette fonction f(x) qui quand on lui fournit une image, nous donne le nom de la personne \n"
   ]
  },
  {
   "cell_type": "code",
   "execution_count": 55,
   "metadata": {},
   "outputs": [
    {
     "data": {
      "text/plain": [
       "Text(0.5, 1.0, 'Visage moyen creepy shit')"
      ]
     },
     "execution_count": 55,
     "metadata": {},
     "output_type": "execute_result"
    },
    {
     "data": {
      "image/png": "[encoded data removed]",
      "text/plain": [
       "<Figure size 432x288 with 1 Axes>"
      ]
     },
     "metadata": {
      "needs_background": "light"
     },
     "output_type": "display_data"
    }
   ],
   "source": [
    "#Calculons la moyenne des visages :o\n",
    "visageMoyen = np.zeros(h*w) #Initialisser un tableau numpy vide 1 dimension\n",
    "#Ajouter toutes les images\n",
    "for image in X:\n",
    "    visageMoyen = np.add(image,visageMoyen)\n",
    "#Diviser par le nombre d'images\n",
    "visageMoyen = np.divide(visageMoyen,len(X))\n",
    "plt.imshow(visageMoyen.reshape((h,w)))\n",
    "plt.title(\"Visage moyen creepy shit\")\n"
   ]
  },
  {
   "cell_type": "code",
   "execution_count": 48,
   "metadata": {},
   "outputs": [
    {
     "name": "stdout",
     "output_type": "stream",
     "text": [
      "[1. 2.]\n"
     ]
    }
   ],
   "source": []
  },
  {
   "cell_type": "code",
   "execution_count": null,
   "metadata": {},
   "outputs": [],
   "source": []
  }
 ],
 "metadata": {
  "kernelspec": {
   "display_name": "Python 3",
   "language": "python",
   "name": "python3"
  },
  "language_info": {
   "codemirror_mode": {
    "name": "ipython",
    "version": 3
   },
   "file_extension": ".py",
   "mimetype": "text/x-python",
   "name": "python",
   "nbconvert_exporter": "python",
   "pygments_lexer": "ipython3",
   "version": "3.8.5"
  }
 },
 "nbformat": 4,
 "nbformat_minor": 4
}
